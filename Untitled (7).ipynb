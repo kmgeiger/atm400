{
 "cells": [
  {
   "cell_type": "code",
   "execution_count": 4,
   "id": "2f8297a8-5936-4634-adc1-6af2c5e2b834",
   "metadata": {},
   "outputs": [],
   "source": [
    "from datetime import datetime\n",
    "\n",
    "import cartopy.crs as ccrs\n",
    "import cartopy.feature as cfeature\n",
    "import matplotlib.gridspec as gridspec\n",
    "import matplotlib.pyplot as plt\n",
    "import metpy.calc as mpcalc\n",
    "from metpy.units import units\n",
    "from netCDF4 import num2date\n",
    "import numpy as np\n",
    "import scipy.ndimage as ndimage\n",
    "from siphon.ncss import NCSS"
   ]
  },
  {
   "cell_type": "code",
   "execution_count": 5,
   "id": "9f389f60-efa2-46f9-83b4-b7549ae8e99d",
   "metadata": {},
   "outputs": [],
   "source": [
    "# Helper function for finding proper time variable\n",
    "def find_time_var(var, time_basename='time'):\n",
    "    for coord_name in var.coordinates.split():\n",
    "        if coord_name.startswith(time_basename):\n",
    "            return coord_name\n",
    "    raise ValueError('No time variable found for ' + var.name)"
   ]
  },
  {
   "cell_type": "code",
   "execution_count": 8,
   "id": "37677b3e-a817-493a-8ad8-62e5f42eea10",
   "metadata": {},
   "outputs": [
    {
     "ename": "ParseError",
     "evalue": "no element found: line 1, column 0",
     "output_type": "error",
     "traceback": [
      "\u001b[0;31m---------------------------------------------------------------------------\u001b[0m",
      "\u001b[0;31mParseError\u001b[0m                                Traceback (most recent call last)",
      "Cell \u001b[0;32mIn[8], line 3\u001b[0m\n\u001b[1;32m      1\u001b[0m base_url \u001b[38;5;241m=\u001b[39m \u001b[38;5;124m'\u001b[39m\u001b[38;5;124mhttps://www.ncei.noaa.gov/thredds/ncss/grid/gfs-g4-anl-files/\u001b[39m\u001b[38;5;124m'\u001b[39m\n\u001b[1;32m      2\u001b[0m dt \u001b[38;5;241m=\u001b[39m datetime(\u001b[38;5;241m2017\u001b[39m, \u001b[38;5;241m4\u001b[39m, \u001b[38;5;241m5\u001b[39m, \u001b[38;5;241m12\u001b[39m)\n\u001b[0;32m----> 3\u001b[0m ncss \u001b[38;5;241m=\u001b[39m \u001b[43mNCSS\u001b[49m\u001b[43m(\u001b[49m\u001b[38;5;124;43m'\u001b[39;49m\u001b[38;5;132;43;01m{}\u001b[39;49;00m\u001b[38;5;124;43m{\u001b[39;49m\u001b[38;5;124;43mdt:\u001b[39;49m\u001b[38;5;124;43m%\u001b[39;49m\u001b[38;5;124;43mY\u001b[39;49m\u001b[38;5;124;43m%\u001b[39;49m\u001b[38;5;124;43mm}/\u001b[39;49m\u001b[38;5;124;43m{\u001b[39;49m\u001b[38;5;124;43mdt:\u001b[39;49m\u001b[38;5;124;43m%\u001b[39;49m\u001b[38;5;124;43mY\u001b[39;49m\u001b[38;5;124;43m%\u001b[39;49m\u001b[38;5;124;43mm\u001b[39;49m\u001b[38;5;132;43;01m%d\u001b[39;49;00m\u001b[38;5;124;43m}/gfsanl_4_\u001b[39;49m\u001b[38;5;124;43m{\u001b[39;49m\u001b[38;5;124;43mdt:\u001b[39;49m\u001b[38;5;124;43m%\u001b[39;49m\u001b[38;5;124;43mY\u001b[39;49m\u001b[38;5;124;43m%\u001b[39;49m\u001b[38;5;124;43mm\u001b[39;49m\u001b[38;5;132;43;01m%d\u001b[39;49;00m\u001b[38;5;124;43m}_\u001b[39;49m\u001b[38;5;124;43m'\u001b[39;49m\n\u001b[1;32m      4\u001b[0m \u001b[43m            \u001b[49m\u001b[38;5;124;43m'\u001b[39;49m\u001b[38;5;124;43m{\u001b[39;49m\u001b[38;5;124;43mdt:\u001b[39;49m\u001b[38;5;124;43m%\u001b[39;49m\u001b[38;5;124;43mH}00_000.grb2\u001b[39;49m\u001b[38;5;124;43m'\u001b[39;49m\u001b[38;5;241;43m.\u001b[39;49m\u001b[43mformat\u001b[49m\u001b[43m(\u001b[49m\u001b[43mbase_url\u001b[49m\u001b[43m,\u001b[49m\u001b[43m \u001b[49m\u001b[43mdt\u001b[49m\u001b[38;5;241;43m=\u001b[39;49m\u001b[43mdt\u001b[49m\u001b[43m)\u001b[49m\u001b[43m)\u001b[49m\n\u001b[1;32m      6\u001b[0m \u001b[38;5;66;03m# Create lat/lon box for location you want to get data for\u001b[39;00m\n\u001b[1;32m      7\u001b[0m query \u001b[38;5;241m=\u001b[39m ncss\u001b[38;5;241m.\u001b[39mquery()\u001b[38;5;241m.\u001b[39mtime(dt)\n",
      "File \u001b[0;32m/knight/mamba_aug23/envs/aug23_env/lib/python3.11/site-packages/siphon/http_util.py:387\u001b[0m, in \u001b[0;36mHTTPEndPoint.__init__\u001b[0;34m(self, url)\u001b[0m\n\u001b[1;32m    385\u001b[0m \u001b[38;5;28mself\u001b[39m\u001b[38;5;241m.\u001b[39m_base \u001b[38;5;241m=\u001b[39m url\n\u001b[1;32m    386\u001b[0m \u001b[38;5;28mself\u001b[39m\u001b[38;5;241m.\u001b[39m_session \u001b[38;5;241m=\u001b[39m session_manager\u001b[38;5;241m.\u001b[39mcreate_session()\n\u001b[0;32m--> 387\u001b[0m \u001b[38;5;28;43mself\u001b[39;49m\u001b[38;5;241;43m.\u001b[39;49m\u001b[43m_get_metadata\u001b[49m\u001b[43m(\u001b[49m\u001b[43m)\u001b[49m\n",
      "File \u001b[0;32m/knight/mamba_aug23/envs/aug23_env/lib/python3.11/site-packages/siphon/ncss.py:58\u001b[0m, in \u001b[0;36mNCSS._get_metadata\u001b[0;34m(self)\u001b[0m\n\u001b[1;32m     55\u001b[0m \u001b[38;5;28;01mdef\u001b[39;00m \u001b[38;5;21m_get_metadata\u001b[39m(\u001b[38;5;28mself\u001b[39m):\n\u001b[1;32m     56\u001b[0m     \u001b[38;5;66;03m# Need to use .content here to avoid decode problems\u001b[39;00m\n\u001b[1;32m     57\u001b[0m     meta_xml \u001b[38;5;241m=\u001b[39m \u001b[38;5;28mself\u001b[39m\u001b[38;5;241m.\u001b[39mget_path(\u001b[38;5;124m'\u001b[39m\u001b[38;5;124mdataset.xml\u001b[39m\u001b[38;5;124m'\u001b[39m)\u001b[38;5;241m.\u001b[39mcontent\n\u001b[0;32m---> 58\u001b[0m     root \u001b[38;5;241m=\u001b[39m \u001b[43mET\u001b[49m\u001b[38;5;241;43m.\u001b[39;49m\u001b[43mfromstring\u001b[49m\u001b[43m(\u001b[49m\u001b[43mmeta_xml\u001b[49m\u001b[43m)\u001b[49m\n\u001b[1;32m     59\u001b[0m     \u001b[38;5;28mself\u001b[39m\u001b[38;5;241m.\u001b[39mmetadata \u001b[38;5;241m=\u001b[39m NCSSDataset(root)\n\u001b[1;32m     60\u001b[0m     \u001b[38;5;28mself\u001b[39m\u001b[38;5;241m.\u001b[39mvariables \u001b[38;5;241m=\u001b[39m \u001b[38;5;28mset\u001b[39m(\u001b[38;5;28mself\u001b[39m\u001b[38;5;241m.\u001b[39mmetadata\u001b[38;5;241m.\u001b[39mvariables)\n",
      "File \u001b[0;32m/knight/mamba_aug23/envs/aug23_env/lib/python3.11/xml/etree/ElementTree.py:1339\u001b[0m, in \u001b[0;36mXML\u001b[0;34m(text, parser)\u001b[0m\n\u001b[1;32m   1337\u001b[0m     parser \u001b[38;5;241m=\u001b[39m XMLParser(target\u001b[38;5;241m=\u001b[39mTreeBuilder())\n\u001b[1;32m   1338\u001b[0m parser\u001b[38;5;241m.\u001b[39mfeed(text)\n\u001b[0;32m-> 1339\u001b[0m \u001b[38;5;28;01mreturn\u001b[39;00m \u001b[43mparser\u001b[49m\u001b[38;5;241;43m.\u001b[39;49m\u001b[43mclose\u001b[49m\u001b[43m(\u001b[49m\u001b[43m)\u001b[49m\n",
      "\u001b[0;31mParseError\u001b[0m: no element found: line 1, column 0"
     ]
    }
   ],
   "source": [
    "base_url = 'https://www.ncei.noaa.gov/thredds/ncss/grid/gfs-g4-anl-files/'\n",
    "dt = datetime(2017, 4, 5, 12)\n",
    "ncss = NCSS('{}{dt:%Y%m}/{dt:%Y%m%d}/gfsanl_4_{dt:%Y%m%d}_'\n",
    "            '{dt:%H}00_000.grb2'.format(base_url, dt=dt))\n",
    "\n",
    "# Create lat/lon box for location you want to get data for\n",
    "query = ncss.query().time(dt)\n",
    "query.lonlat_box(north=65, south=15, east=310, west=220)\n",
    "query.accept('netcdf')\n",
    "\n",
    "# Request data for vorticity\n",
    "query.variables('Geopotential_height_isobaric', 'Temperature_isobaric',\n",
    "                'u-component_of_wind_isobaric', 'v-component_of_wind_isobaric')\n",
    "data = ncss.get_data(query)\n",
    "\n",
    "# Pull out variables you want to use\n",
    "hght_var = data.variables['Geopotential_height_isobaric']\n",
    "temp_var = data.variables['Temperature_isobaric']\n",
    "u_wind_var = data.variables['u-component_of_wind_isobaric']\n",
    "v_wind_var = data.variables['v-component_of_wind_isobaric']\n",
    "time_var = data.variables[find_time_var(temp_var)]\n",
    "lat_var = data.variables['lat']\n",
    "lon_var = data.variables['lon']\n",
    "\n",
    "# Get actual data values and remove any size 1 dimensions\n",
    "lat = lat_var[:].squeeze()\n",
    "lon = lon_var[:].squeeze()\n",
    "hght = hght_var[:].squeeze()\n",
    "temp = temp_var[:].squeeze() * units.K\n",
    "u_wind = units('m/s') * u_wind_var[:].squeeze()\n",
    "v_wind = units('m/s') * v_wind_var[:].squeeze()\n",
    "\n",
    "# Convert number of hours since the reference time into an actual date\n",
    "time = num2date(time_var[:].squeeze(), time_var.units)\n",
    "\n",
    "lev_850 = np.where(data.variables['isobaric'][:] == 850*100)[0][0]\n",
    "hght_850 = hght[lev_850]\n",
    "temp_850 = temp[lev_850]\n",
    "u_wind_850 = u_wind[lev_850]\n",
    "v_wind_850 = v_wind[lev_850]\n",
    "\n",
    "# Combine 1D latitude and longitudes into a 2D grid of locations\n",
    "lon_2d, lat_2d = np.meshgrid(lon, lat)\n",
    "# Gridshift for barbs\n",
    "lon_2d[lon_2d > 180] = lon_2d[lon_2d > 180] - 360"
   ]
  },
  {
   "cell_type": "code",
   "execution_count": null,
   "id": "5c45fd80-3d82-45ef-a1a8-95e5232b83e8",
   "metadata": {},
   "outputs": [],
   "source": []
  }
 ],
 "metadata": {
  "kernelspec": {
   "display_name": "Python 3 August 2023 Environment",
   "language": "python",
   "name": "aug23"
  },
  "language_info": {
   "codemirror_mode": {
    "name": "ipython",
    "version": 3
   },
   "file_extension": ".py",
   "mimetype": "text/x-python",
   "name": "python",
   "nbconvert_exporter": "python",
   "pygments_lexer": "ipython3",
   "version": "3.11.4"
  }
 },
 "nbformat": 4,
 "nbformat_minor": 5
}

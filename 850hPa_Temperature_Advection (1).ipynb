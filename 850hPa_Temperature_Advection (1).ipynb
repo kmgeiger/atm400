{
 "cells": [
  {
   "cell_type": "code",
   "execution_count": 5,
   "metadata": {
    "collapsed": false,
    "jupyter": {
     "outputs_hidden": false
    }
   },
   "outputs": [],
   "source": [
    "%matplotlib inline"
   ]
  },
  {
   "cell_type": "markdown",
   "metadata": {},
   "source": [
    "\n",
    "# 850 hPa Temperature Advection\n",
    "\n",
    "\n",
    "Plot an 850 hPa map with calculating advection using MetPy.\n",
    "\n",
    "Beyond just plotting 850-hPa level data, this uses calculations from `metpy.calc` to find\n",
    "the temperature advection. Currently, this needs an extra helper function to calculate\n",
    "the distance between lat/lon grid points.\n"
   ]
  },
  {
   "cell_type": "markdown",
   "metadata": {},
   "source": [
    "Imports\n",
    "\n"
   ]
  },
  {
   "cell_type": "code",
   "execution_count": 6,
   "metadata": {
    "collapsed": false,
    "jupyter": {
     "outputs_hidden": false
    }
   },
   "outputs": [],
   "source": [
    "from datetime import datetime\n",
    "\n",
    "import cartopy.crs as ccrs\n",
    "import cartopy.feature as cfeature\n",
    "import matplotlib.gridspec as gridspec\n",
    "import matplotlib.pyplot as plt\n",
    "import metpy.calc as mpcalc\n",
    "from metpy.units import units\n",
    "from netCDF4 import num2date\n",
    "import numpy as np\n",
    "import scipy.ndimage as ndimage\n",
    "from siphon.ncss import NCSS"
   ]
  },
  {
   "cell_type": "markdown",
   "metadata": {},
   "source": [
    "Helper functions\n",
    "\n"
   ]
  },
  {
   "cell_type": "code",
   "execution_count": 7,
   "metadata": {
    "collapsed": false,
    "jupyter": {
     "outputs_hidden": false
    }
   },
   "outputs": [],
   "source": [
    "# Helper function for finding proper time variable\n",
    "def find_time_var(var, time_basename='time'):\n",
    "    for coord_name in var.coordinates.split():\n",
    "        if coord_name.startswith(time_basename):\n",
    "            return coord_name\n",
    "    raise ValueError('No time variable found for ' + var.name)"
   ]
  },
  {
   "cell_type": "markdown",
   "metadata": {},
   "source": [
    "Create NCSS object to access the NetcdfSubset\n",
    "---------------------------------------------\n",
    "Data from NCEI GFS 0.5 deg Analysis Archive\n",
    "\n"
   ]
  },
  {
   "cell_type": "code",
   "execution_count": 12,
   "metadata": {
    "collapsed": false,
    "jupyter": {
     "outputs_hidden": false
    }
   },
   "outputs": [
    {
     "name": "stdout",
     "output_type": "stream",
     "text": [
      "https://www.ncei.noaa.gov/thredds/ncss/grid/gfs-g4-anl-files/201704/20170405/gfsanl_4_20170405_1200_000.grb2\n"
     ]
    },
    {
     "ename": "ParseError",
     "evalue": "no element found: line 1, column 0",
     "output_type": "error",
     "traceback": [
      "\u001b[0;31m---------------------------------------------------------------------------\u001b[0m",
      "\u001b[0;31mParseError\u001b[0m                                Traceback (most recent call last)",
      "Cell \u001b[0;32mIn[12], line 5\u001b[0m\n\u001b[1;32m      3\u001b[0m url \u001b[38;5;241m=\u001b[39m \u001b[38;5;124m'\u001b[39m\u001b[38;5;132;01m{}\u001b[39;00m\u001b[38;5;124m{\u001b[39m\u001b[38;5;124mdt:\u001b[39m\u001b[38;5;124m%\u001b[39m\u001b[38;5;124mY\u001b[39m\u001b[38;5;124m%\u001b[39m\u001b[38;5;124mm}/\u001b[39m\u001b[38;5;124m{\u001b[39m\u001b[38;5;124mdt:\u001b[39m\u001b[38;5;124m%\u001b[39m\u001b[38;5;124mY\u001b[39m\u001b[38;5;124m%\u001b[39m\u001b[38;5;124mm\u001b[39m\u001b[38;5;132;01m%d\u001b[39;00m\u001b[38;5;124m}/gfsanl_4_\u001b[39m\u001b[38;5;124m{\u001b[39m\u001b[38;5;124mdt:\u001b[39m\u001b[38;5;124m%\u001b[39m\u001b[38;5;124mY\u001b[39m\u001b[38;5;124m%\u001b[39m\u001b[38;5;124mm\u001b[39m\u001b[38;5;132;01m%d\u001b[39;00m\u001b[38;5;124m}_\u001b[39m\u001b[38;5;124m{\u001b[39m\u001b[38;5;124mdt:\u001b[39m\u001b[38;5;124m%\u001b[39m\u001b[38;5;124mH}00_000.grb2\u001b[39m\u001b[38;5;124m'\u001b[39m\u001b[38;5;241m.\u001b[39mformat(base_url, dt\u001b[38;5;241m=\u001b[39mdt)\n\u001b[1;32m      4\u001b[0m \u001b[38;5;28mprint\u001b[39m(url)\n\u001b[0;32m----> 5\u001b[0m ncss \u001b[38;5;241m=\u001b[39m \u001b[43mNCSS\u001b[49m\u001b[43m(\u001b[49m\u001b[43murl\u001b[49m\u001b[43m)\u001b[49m\n\u001b[1;32m      7\u001b[0m \u001b[38;5;66;03m# Create lat/lon box for location you want to get data for\u001b[39;00m\n\u001b[1;32m      8\u001b[0m query \u001b[38;5;241m=\u001b[39m ncss\u001b[38;5;241m.\u001b[39mquery()\u001b[38;5;241m.\u001b[39mtime(dt)\n",
      "File \u001b[0;32m/knight/mamba_aug23/envs/aug23_env/lib/python3.11/site-packages/siphon/http_util.py:387\u001b[0m, in \u001b[0;36mHTTPEndPoint.__init__\u001b[0;34m(self, url)\u001b[0m\n\u001b[1;32m    385\u001b[0m \u001b[38;5;28mself\u001b[39m\u001b[38;5;241m.\u001b[39m_base \u001b[38;5;241m=\u001b[39m url\n\u001b[1;32m    386\u001b[0m \u001b[38;5;28mself\u001b[39m\u001b[38;5;241m.\u001b[39m_session \u001b[38;5;241m=\u001b[39m session_manager\u001b[38;5;241m.\u001b[39mcreate_session()\n\u001b[0;32m--> 387\u001b[0m \u001b[38;5;28;43mself\u001b[39;49m\u001b[38;5;241;43m.\u001b[39;49m\u001b[43m_get_metadata\u001b[49m\u001b[43m(\u001b[49m\u001b[43m)\u001b[49m\n",
      "File \u001b[0;32m/knight/mamba_aug23/envs/aug23_env/lib/python3.11/site-packages/siphon/ncss.py:58\u001b[0m, in \u001b[0;36mNCSS._get_metadata\u001b[0;34m(self)\u001b[0m\n\u001b[1;32m     55\u001b[0m \u001b[38;5;28;01mdef\u001b[39;00m \u001b[38;5;21m_get_metadata\u001b[39m(\u001b[38;5;28mself\u001b[39m):\n\u001b[1;32m     56\u001b[0m     \u001b[38;5;66;03m# Need to use .content here to avoid decode problems\u001b[39;00m\n\u001b[1;32m     57\u001b[0m     meta_xml \u001b[38;5;241m=\u001b[39m \u001b[38;5;28mself\u001b[39m\u001b[38;5;241m.\u001b[39mget_path(\u001b[38;5;124m'\u001b[39m\u001b[38;5;124mdataset.xml\u001b[39m\u001b[38;5;124m'\u001b[39m)\u001b[38;5;241m.\u001b[39mcontent\n\u001b[0;32m---> 58\u001b[0m     root \u001b[38;5;241m=\u001b[39m \u001b[43mET\u001b[49m\u001b[38;5;241;43m.\u001b[39;49m\u001b[43mfromstring\u001b[49m\u001b[43m(\u001b[49m\u001b[43mmeta_xml\u001b[49m\u001b[43m)\u001b[49m\n\u001b[1;32m     59\u001b[0m     \u001b[38;5;28mself\u001b[39m\u001b[38;5;241m.\u001b[39mmetadata \u001b[38;5;241m=\u001b[39m NCSSDataset(root)\n\u001b[1;32m     60\u001b[0m     \u001b[38;5;28mself\u001b[39m\u001b[38;5;241m.\u001b[39mvariables \u001b[38;5;241m=\u001b[39m \u001b[38;5;28mset\u001b[39m(\u001b[38;5;28mself\u001b[39m\u001b[38;5;241m.\u001b[39mmetadata\u001b[38;5;241m.\u001b[39mvariables)\n",
      "File \u001b[0;32m/knight/mamba_aug23/envs/aug23_env/lib/python3.11/xml/etree/ElementTree.py:1339\u001b[0m, in \u001b[0;36mXML\u001b[0;34m(text, parser)\u001b[0m\n\u001b[1;32m   1337\u001b[0m     parser \u001b[38;5;241m=\u001b[39m XMLParser(target\u001b[38;5;241m=\u001b[39mTreeBuilder())\n\u001b[1;32m   1338\u001b[0m parser\u001b[38;5;241m.\u001b[39mfeed(text)\n\u001b[0;32m-> 1339\u001b[0m \u001b[38;5;28;01mreturn\u001b[39;00m \u001b[43mparser\u001b[49m\u001b[38;5;241;43m.\u001b[39;49m\u001b[43mclose\u001b[49m\u001b[43m(\u001b[49m\u001b[43m)\u001b[49m\n",
      "\u001b[0;31mParseError\u001b[0m: no element found: line 1, column 0"
     ]
    }
   ],
   "source": [
    "base_url = 'https://www.ncei.noaa.gov/thredds/ncss/grid/gfs-g4-anl-files/'\n",
    "dt = datetime(2017, 4, 5, 12)\n",
    "url = '{}{dt:%Y%m}/{dt:%Y%m%d}/gfsanl_4_{dt:%Y%m%d}_{dt:%H}00_000.grb2'.format(base_url, dt=dt)\n",
    "print(url)\n",
    "ncss = NCSS(url)\n",
    "\n",
    "# Create lat/lon box for location you want to get data for\n",
    "query = ncss.query().time(dt)\n",
    "query.lonlat_box(north=65, south=15, east=310, west=220)\n",
    "query.accept('netcdf')\n",
    "\n",
    "# Request data for vorticity\n",
    "query.variables('Geopotential_height_isobaric', 'Temperature_isobaric',\n",
    "                'u-component_of_wind_isobaric', 'v-component_of_wind_isobaric')\n",
    "data = ncss.get_data(query)\n",
    "\n",
    "# Pull out variables you want to use\n",
    "hght_var = data.variables['Geopotential_height_isobaric']\n",
    "temp_var = data.variables['Temperature_isobaric']\n",
    "u_wind_var = data.variables['u-component_of_wind_isobaric']\n",
    "v_wind_var = data.variables['v-component_of_wind_isobaric']\n",
    "time_var = data.variables[find_time_var(temp_var)]\n",
    "lat_var = data.variables['lat']\n",
    "lon_var = data.variables['lon']\n",
    "\n",
    "# Get actual data values and remove any size 1 dimensions\n",
    "lat = lat_var[:].squeeze()\n",
    "lon = lon_var[:].squeeze()\n",
    "hght = hght_var[:].squeeze()\n",
    "temp = temp_var[:].squeeze() * units.K\n",
    "u_wind = units('m/s') * u_wind_var[:].squeeze()\n",
    "v_wind = units('m/s') * v_wind_var[:].squeeze()\n",
    "\n",
    "# Convert number of hours since the reference time into an actual date\n",
    "time = num2date(time_var[:].squeeze(), time_var.units)\n",
    "\n",
    "lev_850 = np.where(data.variables['isobaric'][:] == 850*100)[0][0]\n",
    "hght_850 = hght[lev_850]\n",
    "temp_850 = temp[lev_850]\n",
    "u_wind_850 = u_wind[lev_850]\n",
    "v_wind_850 = v_wind[lev_850]\n",
    "\n",
    "# Combine 1D latitude and longitudes into a 2D grid of locations\n",
    "lon_2d, lat_2d = np.meshgrid(lon, lat)\n",
    "# Gridshift for barbs\n",
    "lon_2d[lon_2d > 180] = lon_2d[lon_2d > 180] - 360"
   ]
  },
  {
   "cell_type": "markdown",
   "metadata": {},
   "source": [
    "Begin data calculations\n",
    "-----------------------\n",
    "\n"
   ]
  },
  {
   "cell_type": "code",
   "execution_count": 9,
   "metadata": {
    "collapsed": false,
    "jupyter": {
     "outputs_hidden": false
    }
   },
   "outputs": [
    {
     "ename": "NameError",
     "evalue": "name 'lon_var' is not defined",
     "output_type": "error",
     "traceback": [
      "\u001b[0;31m---------------------------------------------------------------------------\u001b[0m",
      "\u001b[0;31mNameError\u001b[0m                                 Traceback (most recent call last)",
      "Cell \u001b[0;32mIn[9], line 3\u001b[0m\n\u001b[1;32m      1\u001b[0m \u001b[38;5;66;03m# Use helper function defined above to calculate distance\u001b[39;00m\n\u001b[1;32m      2\u001b[0m \u001b[38;5;66;03m# between lat/lon grid points\u001b[39;00m\n\u001b[0;32m----> 3\u001b[0m dx, dy \u001b[38;5;241m=\u001b[39m mpcalc\u001b[38;5;241m.\u001b[39mlat_lon_grid_deltas(\u001b[43mlon_var\u001b[49m, lat_var)\n\u001b[1;32m      5\u001b[0m \u001b[38;5;66;03m# Calculate temperature advection using metpy function\u001b[39;00m\n\u001b[1;32m      6\u001b[0m adv \u001b[38;5;241m=\u001b[39m mpcalc\u001b[38;5;241m.\u001b[39madvection(temp_850 \u001b[38;5;241m*\u001b[39m units\u001b[38;5;241m.\u001b[39mkelvin, [u_wind_850, v_wind_850],\n\u001b[1;32m      7\u001b[0m                        (dx, dy), dim_order\u001b[38;5;241m=\u001b[39m\u001b[38;5;124m'\u001b[39m\u001b[38;5;124myx\u001b[39m\u001b[38;5;124m'\u001b[39m) \u001b[38;5;241m*\u001b[39m units(\u001b[38;5;124m'\u001b[39m\u001b[38;5;124mK/sec\u001b[39m\u001b[38;5;124m'\u001b[39m)\n",
      "\u001b[0;31mNameError\u001b[0m: name 'lon_var' is not defined"
     ]
    }
   ],
   "source": [
    "# Use helper function defined above to calculate distance\n",
    "# between lat/lon grid points\n",
    "dx, dy = mpcalc.lat_lon_grid_deltas(lon_var, lat_var)\n",
    "\n",
    "# Calculate temperature advection using metpy function\n",
    "adv = mpcalc.advection(temp_850 * units.kelvin, [u_wind_850, v_wind_850],\n",
    "                       (dx, dy), dim_order='yx') * units('K/sec')\n",
    "\n",
    "# Smooth heights and advection a little\n",
    "# Be sure to only put in a 2D lat/lon or Y/X array for smoothing\n",
    "Z_850 = ndimage.gaussian_filter(hght_850, sigma=3, order=0) * units.meter\n",
    "adv = ndimage.gaussian_filter(adv, sigma=3, order=0) * units('K/sec')"
   ]
  },
  {
   "cell_type": "markdown",
   "metadata": {},
   "source": [
    "Begin map creation\n",
    "------------------\n",
    "\n"
   ]
  },
  {
   "cell_type": "code",
   "execution_count": 10,
   "metadata": {
    "collapsed": false,
    "jupyter": {
     "outputs_hidden": false
    }
   },
   "outputs": [
    {
     "ename": "CRSError",
     "evalue": "Invalid projection: +proj=lcc +ellps=WGS84 +lon_0=-100 +lat_0=[30, 60] +x_0=0.0 +y_0=0.0 +lat_1=33 +lat_2=45 +no_defs +type=crs: (Internal Proj Error: proj_create: invalid value for lat_0)",
     "output_type": "error",
     "traceback": [
      "\u001b[0;31m---------------------------------------------------------------------------\u001b[0m",
      "\u001b[0;31mCRSError\u001b[0m                                  Traceback (most recent call last)",
      "Cell \u001b[0;32mIn[10], line 5\u001b[0m\n\u001b[1;32m      2\u001b[0m datacrs \u001b[38;5;241m=\u001b[39m ccrs\u001b[38;5;241m.\u001b[39mPlateCarree()\n\u001b[1;32m      4\u001b[0m \u001b[38;5;66;03m# Set Projection of Plot\u001b[39;00m\n\u001b[0;32m----> 5\u001b[0m plotcrs \u001b[38;5;241m=\u001b[39m \u001b[43mccrs\u001b[49m\u001b[38;5;241;43m.\u001b[39;49m\u001b[43mLambertConformal\u001b[49m\u001b[43m(\u001b[49m\u001b[43mcentral_latitude\u001b[49m\u001b[38;5;241;43m=\u001b[39;49m\u001b[43m[\u001b[49m\u001b[38;5;241;43m30\u001b[39;49m\u001b[43m,\u001b[49m\u001b[43m \u001b[49m\u001b[38;5;241;43m60\u001b[39;49m\u001b[43m]\u001b[49m\u001b[43m,\u001b[49m\u001b[43m \u001b[49m\u001b[43mcentral_longitude\u001b[49m\u001b[38;5;241;43m=\u001b[39;49m\u001b[38;5;241;43m-\u001b[39;49m\u001b[38;5;241;43m100\u001b[39;49m\u001b[43m)\u001b[49m\n\u001b[1;32m      7\u001b[0m \u001b[38;5;66;03m# Create new figure\u001b[39;00m\n\u001b[1;32m      8\u001b[0m fig \u001b[38;5;241m=\u001b[39m plt\u001b[38;5;241m.\u001b[39mfigure(figsize\u001b[38;5;241m=\u001b[39m(\u001b[38;5;241m11\u001b[39m, \u001b[38;5;241m8.5\u001b[39m))\n",
      "File \u001b[0;32m/knight/mamba_aug23/envs/aug23_env/lib/python3.11/site-packages/cartopy/crs.py:1748\u001b[0m, in \u001b[0;36mLambertConformal.__init__\u001b[0;34m(self, central_longitude, central_latitude, false_easting, false_northing, standard_parallels, globe, cutoff)\u001b[0m\n\u001b[1;32m   1745\u001b[0m \u001b[38;5;28;01mif\u001b[39;00m n_parallels \u001b[38;5;241m==\u001b[39m \u001b[38;5;241m2\u001b[39m:\n\u001b[1;32m   1746\u001b[0m     proj4_params\u001b[38;5;241m.\u001b[39mappend((\u001b[38;5;124m'\u001b[39m\u001b[38;5;124mlat_2\u001b[39m\u001b[38;5;124m'\u001b[39m, standard_parallels[\u001b[38;5;241m1\u001b[39m]))\n\u001b[0;32m-> 1748\u001b[0m \u001b[38;5;28;43msuper\u001b[39;49m\u001b[43m(\u001b[49m\u001b[43m)\u001b[49m\u001b[38;5;241;43m.\u001b[39;49m\u001b[38;5;21;43m__init__\u001b[39;49m\u001b[43m(\u001b[49m\u001b[43mproj4_params\u001b[49m\u001b[43m,\u001b[49m\u001b[43m \u001b[49m\u001b[43mglobe\u001b[49m\u001b[38;5;241;43m=\u001b[39;49m\u001b[43mglobe\u001b[49m\u001b[43m)\u001b[49m\n\u001b[1;32m   1750\u001b[0m \u001b[38;5;66;03m# Compute whether this projection is at the \"north pole\" or the\u001b[39;00m\n\u001b[1;32m   1751\u001b[0m \u001b[38;5;66;03m# \"south pole\" (after the central lon/lat have been taken into\u001b[39;00m\n\u001b[1;32m   1752\u001b[0m \u001b[38;5;66;03m# account).\u001b[39;00m\n\u001b[1;32m   1753\u001b[0m \u001b[38;5;28;01mif\u001b[39;00m n_parallels \u001b[38;5;241m==\u001b[39m \u001b[38;5;241m1\u001b[39m:\n",
      "File \u001b[0;32m/knight/mamba_aug23/envs/aug23_env/lib/python3.11/site-packages/cartopy/crs.py:658\u001b[0m, in \u001b[0;36mProjection.__init__\u001b[0;34m(self, *args, **kwargs)\u001b[0m\n\u001b[1;32m    657\u001b[0m \u001b[38;5;28;01mdef\u001b[39;00m \u001b[38;5;21m__init__\u001b[39m(\u001b[38;5;28mself\u001b[39m, \u001b[38;5;241m*\u001b[39margs, \u001b[38;5;241m*\u001b[39m\u001b[38;5;241m*\u001b[39mkwargs):\n\u001b[0;32m--> 658\u001b[0m     \u001b[38;5;28;43msuper\u001b[39;49m\u001b[43m(\u001b[49m\u001b[43m)\u001b[49m\u001b[38;5;241;43m.\u001b[39;49m\u001b[38;5;21;43m__init__\u001b[39;49m\u001b[43m(\u001b[49m\u001b[38;5;241;43m*\u001b[39;49m\u001b[43margs\u001b[49m\u001b[43m,\u001b[49m\u001b[43m \u001b[49m\u001b[38;5;241;43m*\u001b[39;49m\u001b[38;5;241;43m*\u001b[39;49m\u001b[43mkwargs\u001b[49m\u001b[43m)\u001b[49m\n\u001b[1;32m    659\u001b[0m     \u001b[38;5;28mself\u001b[39m\u001b[38;5;241m.\u001b[39mbounds \u001b[38;5;241m=\u001b[39m \u001b[38;5;28;01mNone\u001b[39;00m\n\u001b[1;32m    660\u001b[0m     \u001b[38;5;28;01mif\u001b[39;00m \u001b[38;5;28mself\u001b[39m\u001b[38;5;241m.\u001b[39marea_of_use:\n\u001b[1;32m    661\u001b[0m         \u001b[38;5;66;03m# Convert lat/lon bounds to projected bounds.\u001b[39;00m\n\u001b[1;32m    662\u001b[0m         \u001b[38;5;66;03m# Geographic area of the entire dataset referenced to WGS 84\u001b[39;00m\n\u001b[1;32m    663\u001b[0m         \u001b[38;5;66;03m# NB. We can't use a polygon transform at this stage because\u001b[39;00m\n\u001b[1;32m    664\u001b[0m         \u001b[38;5;66;03m# that relies on the existence of the map boundary... the very\u001b[39;00m\n\u001b[1;32m    665\u001b[0m         \u001b[38;5;66;03m# thing we're trying to work out! ;-)\u001b[39;00m\n",
      "File \u001b[0;32m/knight/mamba_aug23/envs/aug23_env/lib/python3.11/site-packages/cartopy/crs.py:189\u001b[0m, in \u001b[0;36mCRS.__init__\u001b[0;34m(self, proj4_params, globe)\u001b[0m\n\u001b[1;32m    187\u001b[0m             init_items\u001b[38;5;241m.\u001b[39mappend(\u001b[38;5;124mf\u001b[39m\u001b[38;5;124m'\u001b[39m\u001b[38;5;124m+\u001b[39m\u001b[38;5;132;01m{\u001b[39;00mk\u001b[38;5;132;01m}\u001b[39;00m\u001b[38;5;124m'\u001b[39m)\n\u001b[1;32m    188\u001b[0m     \u001b[38;5;28mself\u001b[39m\u001b[38;5;241m.\u001b[39mproj4_init \u001b[38;5;241m=\u001b[39m \u001b[38;5;124m'\u001b[39m\u001b[38;5;124m \u001b[39m\u001b[38;5;124m'\u001b[39m\u001b[38;5;241m.\u001b[39mjoin(init_items) \u001b[38;5;241m+\u001b[39m \u001b[38;5;124m'\u001b[39m\u001b[38;5;124m +no_defs\u001b[39m\u001b[38;5;124m'\u001b[39m\n\u001b[0;32m--> 189\u001b[0m \u001b[38;5;28;43msuper\u001b[39;49m\u001b[43m(\u001b[49m\u001b[43m)\u001b[49m\u001b[38;5;241;43m.\u001b[39;49m\u001b[38;5;21;43m__init__\u001b[39;49m\u001b[43m(\u001b[49m\u001b[38;5;28;43mself\u001b[39;49m\u001b[38;5;241;43m.\u001b[39;49m\u001b[43mproj4_init\u001b[49m\u001b[43m)\u001b[49m\n",
      "File \u001b[0;32m/knight/mamba_aug23/envs/aug23_env/lib/python3.11/site-packages/pyproj/crs/crs.py:348\u001b[0m, in \u001b[0;36mCRS.__init__\u001b[0;34m(self, projparams, **kwargs)\u001b[0m\n\u001b[1;32m    346\u001b[0m     \u001b[38;5;28mself\u001b[39m\u001b[38;5;241m.\u001b[39m_local\u001b[38;5;241m.\u001b[39mcrs \u001b[38;5;241m=\u001b[39m projparams\n\u001b[1;32m    347\u001b[0m \u001b[38;5;28;01melse\u001b[39;00m:\n\u001b[0;32m--> 348\u001b[0m     \u001b[38;5;28mself\u001b[39m\u001b[38;5;241m.\u001b[39m_local\u001b[38;5;241m.\u001b[39mcrs \u001b[38;5;241m=\u001b[39m \u001b[43m_CRS\u001b[49m\u001b[43m(\u001b[49m\u001b[38;5;28;43mself\u001b[39;49m\u001b[38;5;241;43m.\u001b[39;49m\u001b[43msrs\u001b[49m\u001b[43m)\u001b[49m\n",
      "File \u001b[0;32m/knight/mamba_aug23/envs/aug23_env/lib/python3.11/site-packages/pyproj/_crs.pyx:2378\u001b[0m, in \u001b[0;36mpyproj._crs._CRS.__init__\u001b[0;34m()\u001b[0m\n",
      "\u001b[0;31mCRSError\u001b[0m: Invalid projection: +proj=lcc +ellps=WGS84 +lon_0=-100 +lat_0=[30, 60] +x_0=0.0 +y_0=0.0 +lat_1=33 +lat_2=45 +no_defs +type=crs: (Internal Proj Error: proj_create: invalid value for lat_0)"
     ]
    }
   ],
   "source": [
    "# Set Projection of Data\n",
    "datacrs = ccrs.PlateCarree()\n",
    "\n",
    "# Set Projection of Plot\n",
    "plotcrs = ccrs.LambertConformal(central_latitude=[30, 60], central_longitude=-100)\n",
    "\n",
    "# Create new figure\n",
    "fig = plt.figure(figsize=(11, 8.5))\n",
    "gs = gridspec.GridSpec(2, 1, height_ratios=[1, .02], bottom=.07, top=.99,\n",
    "                       hspace=0.01, wspace=0.01)\n",
    "\n",
    "# Add the map and set the extent\n",
    "ax = plt.subplot(gs[0], projection=plotcrs)\n",
    "plt.title('850mb Temperature Advection for {0:%d %B %Y %H:%MZ}'.format(time), fontsize=16)\n",
    "ax.set_extent([235., 290., 20., 55.])\n",
    "\n",
    "# Add state/country boundaries to plot\n",
    "ax.add_feature(cfeature.STATES)\n",
    "ax.add_feature(cfeature.BORDERS)\n",
    "\n",
    "# Plot Height Contours\n",
    "clev850 = np.arange(900, 3000, 30)\n",
    "cs = ax.contour(lon_2d, lat_2d, Z_850, clev850, colors='black', linewidths=1.5,\n",
    "                linestyles='solid', transform=datacrs)\n",
    "plt.clabel(cs, fontsize=10, inline=1, inline_spacing=10, fmt='%i',\n",
    "           rightside_up=True, use_clabeltext=True)\n",
    "\n",
    "# Plot Temperature Contours\n",
    "clevtemp850 = np.arange(-20, 20, 2)\n",
    "cs2 = ax.contour(lon_2d, lat_2d, temp_850.to(units('degC')), clevtemp850,\n",
    "                 colors='grey', linewidths=1.25, linestyles='dashed',\n",
    "                 transform=datacrs)\n",
    "plt.clabel(cs2, fontsize=10, inline=1, inline_spacing=10, fmt='%i',\n",
    "           rightside_up=True, use_clabeltext=True)\n",
    "\n",
    "# Plot Colorfill of Temperature Advection\n",
    "cint = np.arange(-8, 9)\n",
    "cf = ax.contourf(lon_2d, lat_2d, 3*adv.to(units('delta_degC/hour')), cint[cint != 0],\n",
    "                 extend='both', cmap='bwr', transform=datacrs)\n",
    "cax = plt.subplot(gs[1])\n",
    "cb = plt.colorbar(cf, cax=cax, orientation='horizontal', extendrect=True, ticks=cint)\n",
    "cb.set_label(r'$^{o}C/3h$', size='large')\n",
    "\n",
    "# Plot Wind Barbs\n",
    "ax.barbs(lon_2d, lat_2d, u_wind_850.magnitude, v_wind_850.magnitude,\n",
    "         length=6, regrid_shape=20, pivot='middle', transform=datacrs)\n",
    "\n",
    "plt.show()"
   ]
  },
  {
   "cell_type": "code",
   "execution_count": null,
   "metadata": {},
   "outputs": [],
   "source": []
  },
  {
   "cell_type": "code",
   "execution_count": null,
   "metadata": {},
   "outputs": [],
   "source": []
  }
 ],
 "metadata": {
  "kernelspec": {
   "display_name": "Python 3 August 2023 Environment",
   "language": "python",
   "name": "aug23"
  },
  "language_info": {
   "codemirror_mode": {
    "name": "ipython",
    "version": 3
   },
   "file_extension": ".py",
   "mimetype": "text/x-python",
   "name": "python",
   "nbconvert_exporter": "python",
   "pygments_lexer": "ipython3",
   "version": "3.11.4"
  }
 },
 "nbformat": 4,
 "nbformat_minor": 4
}
